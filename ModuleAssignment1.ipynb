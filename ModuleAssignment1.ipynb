{
 "cells": [
  {
   "cell_type": "markdown",
   "id": "48055a06-89ac-46f7-a821-ca7f6bbe17ee",
   "metadata": {},
   "source": [
    "# My Jupyter Notebook on IBM Watson Studio"
   ]
  },
  {
   "cell_type": "markdown",
   "id": "9a8b962e-e58d-450f-8a67-07f34af07613",
   "metadata": {},
   "source": [
    "### **ALI MARTH**"
   ]
  },
  {
   "cell_type": "markdown",
   "id": "8b752296-1a3f-4420-b281-8c0aa444ca0c",
   "metadata": {},
   "source": [
    "### *I am interested in data science because I would like to apply my skills to certain programs where I can be*\n",
    "### *useful. Moreover, I just love solving problems, when it comes to Maths or Programming*"
   ]
  },
  {
   "cell_type": "markdown",
   "id": "6ece156d-642a-4566-9181-87904ca4fe2c",
   "metadata": {},
   "source": [
    "### The code below will workout the total amount of hours a person worked and then multiple the rate with the hours. Moreover, if the employee has done overtime they will be paid extra depending on the amount of hours they did and this program will try to find how much more should be given to them for the overtime they did"
   ]
  },
  {
   "cell_type": "code",
   "execution_count": 4,
   "id": "b904863f-9d91-4cf9-be0b-b102d61d13cd",
   "metadata": {},
   "outputs": [
    {
     "name": "stdin",
     "output_type": "stream",
     "text": [
      "Enter Hours:  48\n",
      "Enter Rate:  12\n"
     ]
    },
    {
     "name": "stdout",
     "output_type": "stream",
     "text": [
      "48.0 12.0\n",
      "Pay: 624.0\n"
     ]
    }
   ],
   "source": [
    "Hours = input(\"Enter Hours: \")\n",
    "Rate = input(\"Enter Rate: \")\n",
    "try:\n",
    "    Floath = float(Hours)\n",
    "    Floatr = float(Rate)\n",
    "except:\n",
    "   print(\"NO WORDS, ONLY NUMERICS\")\n",
    "   quit()\n",
    "\n",
    "print(Floath, Floatr)\n",
    "if Floath > 40:\n",
    "    RPaid = Floatr * Floath\n",
    "    OTPaid = (Floath - 40.0) * (Floatr * 0.5)\n",
    "    Paid = RPaid + OTPaid\n",
    "else:\n",
    "    Paid = Floath * Floatr\n",
    "print(\"Pay:\", Paid)\n"
   ]
  },
  {
   "cell_type": "markdown",
   "id": "14aa9abc-7284-450f-b0af-c9e744b486f8",
   "metadata": {},
   "source": [
    " - **Hello**\n",
    " - *This*\n",
    " - **Is**\n",
    " - *A*\n",
    " - **Bullet**\n",
    " - *Point*\n",
    " - **Test**"
   ]
  }
 ],
 "metadata": {
  "kernelspec": {
   "display_name": "Python",
   "language": "python",
   "name": "conda-env-python-py"
  },
  "language_info": {
   "codemirror_mode": {
    "name": "ipython",
    "version": 3
   },
   "file_extension": ".py",
   "mimetype": "text/x-python",
   "name": "python",
   "nbconvert_exporter": "python",
   "pygments_lexer": "ipython3",
   "version": "3.7.12"
  }
 },
 "nbformat": 4,
 "nbformat_minor": 5
}
